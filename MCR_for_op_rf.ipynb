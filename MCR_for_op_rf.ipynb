{
 "cells": [
  {
   "cell_type": "markdown",
   "id": "67f08776-1457-4d81-b501-d3da18a5e4e3",
   "metadata": {},
   "source": [
    "Value of Commercial Product Sales Data in Healthcare Prediction\n",
    "\n",
    "Author: Elizabeth Dolan Date: 22 November 2021\n",
    "\n",
    "This code can be used to run MCR and grouped MCR on the optimal models of a Random Forest Regressor"
   ]
  },
  {
   "cell_type": "markdown",
   "id": "17f027d2",
   "metadata": {},
   "source": [
    "Code below does the following:\n",
    "-Imports key packages for MCR & analysis -Changes date to python date category type -Assigns y (the target variable the model needs to predict) -Assigns X (the features- variables inputted in order to predict y)-Splits data into training and test data -Check dataset sizes -Time series data split for cross validation - Cross validation grid search to find optimum hyperparameters for random forest regressor (remembering bootstrap parameter has to be set to False in order for MCR package to work) -Scores for R2, RSME and MAE on test data using model from grid search - Conduct MCR measuring importance of variables across Rashomon set - Save to file MCR scores and visual - Create grouped variables(features) for grouped MCR - Conduct grouped MCR\n",
    "Important note: In order for MCR to work you must have already created a 'Rashomon set' see report, a model who's instances produce a set of optimal ('best performing') models which can consistently make successful predictions. The code provided works effectively on a dataset that we cannot make public here due to health and commercial sensitivity/privacy - the example data given to run the code will not give you a model with high predictive accuracy i.e. the results on the MCR will not output valid/useful results - however, you can adapt this code to run on your own 'Rashomon sets' created in your own work and using other datasets.\n"
   ]
  },
  {
   "cell_type": "code",
   "execution_count": null,
   "id": "ea112aa2-0b55-45ed-afad-afd666fa7927",
   "metadata": {},
   "outputs": [],
   "source": [
    "#Import some key packages for MCR\n",
    "from mcrforest.forest import RandomForestRegressor # version 3.0.1\n",
    "import pickle # version 4.0\n",
    "import mcrforest\n",
    "import numpy as np # 1.19.5\n",
    "\n",
    "from pkg_resources import get_distribution\n",
    "print(get_distribution('mcrforest').version)"
   ]
  },
  {
   "cell_type": "code",
   "execution_count": null,
   "id": "4a98922c-a11b-45ac-bb19-95984fef0cec",
   "metadata": {},
   "outputs": [],
   "source": [
    "#import packages for analysis\n",
    "import pandas as pd # version 1.1.5\n",
    "import matplotlib.pyplot as plt # version 3.3.4\n",
    "import seaborn as sns # version 0.11.2\n",
    "\n",
    "#create dataframe from survey data\n",
    "df = pd.read_csv('padrus_data_weather.csv')"
   ]
  },
  {
   "cell_type": "code",
   "execution_count": null,
   "id": "88d99f4b-2e3c-494a-9f36-0db3710a6b83",
   "metadata": {},
   "outputs": [],
   "source": [
    "#change column to data type 'category', change date column data to 'datetime' data type\n",
    "df['date'] = pd.to_datetime(df['date'])"
   ]
  },
  {
   "cell_type": "code",
   "execution_count": null,
   "id": "9875544a-e1dd-4ce5-b01f-43bee49ed3a1",
   "metadata": {},
   "outputs": [],
   "source": [
    "#assign data to y target\n",
    "y = df['cnt']"
   ]
  },
  {
   "cell_type": "code",
   "execution_count": null,
   "id": "028f5d94-97a5-4ff8-9245-54add4347404",
   "metadata": {},
   "outputs": [],
   "source": [
    "#assign data to X features\n",
    "X = df[['weeknum', 'ltla_week_sales_17', 'decongestant_17', 'throat_17', \n",
    "        'cough_dry_17','cough_all_17', 'ltla_week_sales_24', 'decongestant_24',\n",
    "        'throat_24', 'cough_dry_24', 'cough_all_24','decongestant_lr',\n",
    "        'throat_lr', 'cough_dry_lr', 'cough_all_lr','decongestant_m',\n",
    "        'throat_m', 'cough_dry_m', 'cough_all_m', 'liv_env_score', 'crime_score', \n",
    "        'housing_score', 'pop_16to24', 'pop_25to49', 'pop_50to64', 'pop_over65', 'pop_density', 'pct_male', \n",
    "        'pct_female', 'imd_rank', 'imd_score', 'imd_extent', 'imd_concentration', 'pct_pre1919', 'pct_pre1940', \n",
    "        'pct_pre1973', 'pct_pre1983', 'pct_community', 'pct_industrial', 'pct_residential', 'pct_transport', \n",
    "        'pct_agriculture', 'pct_natural', 'pct_recreation', 'pct_non_white', 'pct_lone_parent', \n",
    "        'pct_other_children', 'pct_detached', 'pct_semi', 'pct_terraced', 'pct_flat', 'average_rainfall',\n",
    "        'total_rainfall', 'min_temp', 'average_temp', 'max_temp']] "
   ]
  },
  {
   "cell_type": "code",
   "execution_count": null,
   "id": "a582020b-83ac-4248-a3ec-82ef8f55a920",
   "metadata": {},
   "outputs": [],
   "source": [
    "# data split into train and test data\n",
    "\n",
    "X_train = X.iloc[:45844,:]\n",
    "X_test = X.iloc[45844:66254,:]\n",
    "y_train = y.iloc[:45844,]\n",
    "y_test = y.iloc[45844:66254,]\n"
   ]
  },
  {
   "cell_type": "code",
   "execution_count": null,
   "id": "b04a21fe-984c-4941-839d-cdcc894c16c1",
   "metadata": {},
   "outputs": [],
   "source": [
    "# data sizes\n",
    "print(len(X_train),len(y_train), 'train examples')\n",
    "print(len(X_test),len(y_test), 'test examples')"
   ]
  },
  {
   "cell_type": "code",
   "execution_count": null,
   "id": "2fd07f37-4565-4e5a-b114-70d59f4fc8d6",
   "metadata": {},
   "outputs": [],
   "source": [
    "# import time series split\n",
    "from sklearn.model_selection import TimeSeriesSplit # version 0.24.2\n",
    "\n",
    "#split training data in order to optimise RF model on it\n",
    "#test_size set to ensure no data leakage at 13,188\n",
    "#45,844 of training data rows, 314 instances of 146 weeks, around a fifth of 146 is 29, 29x314 = 9106\n",
    "\n",
    "tscv = TimeSeriesSplit(n_splits=4, test_size=9106)\n",
    "print(tscv)"
   ]
  },
  {
   "cell_type": "code",
   "execution_count": null,
   "id": "c255c76d-f382-4a94-bf73-fa041dcd2d2b",
   "metadata": {},
   "outputs": [],
   "source": [
    "# import random forest remember no bootstrapping for MCR\n",
    "from sklearn.ensemble import RandomForestRegressor as RF_sklearn"
   ]
  },
  {
   "cell_type": "code",
   "execution_count": null,
   "id": "4947c772-af89-4ce3-a455-b1e8a5d42600",
   "metadata": {},
   "outputs": [],
   "source": [
    "#Cross validation grid search to find optimum hyperparameters for random forest regressor\n",
    "from sklearn.model_selection import GridSearchCV\n",
    "rfc = RF_sklearn(random_state = 42)\n",
    "param_grid = { \n",
    "            \"n_estimators\"      : [200, 300, 400], #300 otpimum tested 100,600\n",
    "            \"max_features\"      : [\"log2\"], #\"log2\" is optimum tested 1,2, \"auto\"\n",
    "            \"min_samples_split\" : [10,11,12], #11 is optimum tested 9,10,11,12\n",
    "            \"max_depth\": [10,11,12], #11 is optimum tested 8,9,10,11,12\n",
    "            \"bootstrap\": [False],\n",
    "            }\n",
    "grid = GridSearchCV(rfc, param_grid, cv=tscv, refit= True, n_jobs = -1, verbose = 3, return_train_score = True)\n",
    "grid.fit(X_train, y_train.values.ravel())\n",
    "predictions = grid.predict(X_test)\n",
    "print(grid.best_params_)"
   ]
  },
  {
   "cell_type": "code",
   "execution_count": null,
   "id": "33fa90f9-0464-4fa3-9501-5070b8a01d55",
   "metadata": {},
   "outputs": [],
   "source": [
    "#Scores for R2, RSME and MAE on test data using model from grid search\n",
    "from sklearn.metrics import r2_score\n",
    "from sklearn.metrics import mean_squared_error\n",
    "from sklearn.metrics import mean_absolute_error\n",
    "\n",
    "rf_mse = mean_squared_error(y_test, predictions)\n",
    "rf_rmse = np.sqrt(rf_mse)\n",
    "print(rf_rmse)\n",
    "print(r2_score(y_test, predictions))\n",
    "print(mean_absolute_error(y_test, predictions))"
   ]
  },
  {
   "cell_type": "code",
   "execution_count": null,
   "id": "e7aa530b-5ad2-4b82-a282-3f566082bbde",
   "metadata": {},
   "outputs": [],
   "source": [
    "# conduct MCR\n",
    "from mcrforest.forest import RandomForestRegressor\n",
    "best_params = grid.best_params_\n",
    "best_params['random_state'] = 42\n",
    "best_params['n_jobs'] = -1\n",
    "\n",
    "modelg = RandomForestRegressor(**best_params)\n",
    "#modelg.debug()\n",
    "modelg.fit(X_train.values[:45844,:], y_train.values.flatten()[:45844])\n",
    "plt.rcParams.update({'font.size': 7})\n",
    "r1 = modelg.plot_mcr(X_train.values[:45844,:], y_train.values.flatten()[:45844], num_times = 10, show_fig = True, feature_names = X_train.columns.tolist() )"
   ]
  },
  {
   "cell_type": "code",
   "execution_count": null,
   "id": "ea529b7e-3a37-4661-809d-5be9996f9420",
   "metadata": {},
   "outputs": [],
   "source": [
    "#tabled MCR scores\n",
    "r1"
   ]
  },
  {
   "cell_type": "code",
   "execution_count": null,
   "id": "30efed55-1411-403a-b934-4f162a09c4d6",
   "metadata": {},
   "outputs": [],
   "source": [
    "#save to file tabled MCR scores\n",
    "r1.to_csv(\"mcr_padrus_scores.csv\")"
   ]
  },
  {
   "cell_type": "code",
   "execution_count": null,
   "id": "05668f13-a647-45d1-9ce4-74ba1ad6d4f1",
   "metadata": {
    "tags": []
   },
   "outputs": [],
   "source": [
    "#save to file MCR visual\n",
    "def plot_mcr(df_in, fig_size = (11.7, 8.27)):\n",
    "    df_in = df_in.copy()\n",
    "    df_in.columns = [ x.replace('MCR+', 'MCR- (lollypops) | MCR+ (bars)') for x in df_in.columns]\n",
    "    ax = sns.barplot(x='MCR- (lollypops) | MCR+ (bars)',y='variable',data=df_in)\n",
    "    plt.gcf().set_size_inches(fig_size)\n",
    "    plt.hlines(y=range(df_in.shape[0]), xmin=0, xmax=df_in['MCR-'], color='skyblue')\n",
    "    plt.plot(df_in['MCR-'], range(df_in.shape[0]), \"o\", color = 'skyblue')\n",
    "\n",
    "plot_mcr(r1)\n",
    "plt.savefig(\"mcr_padrus.png\", dpi = 600)"
   ]
  },
  {
   "cell_type": "code",
   "execution_count": null,
   "id": "cb1d130f-5723-40ac-a790-de655e72a618",
   "metadata": {},
   "outputs": [],
   "source": [
    "# Make a list of columns to create grouped variables for grouped MCR\n",
    "\n",
    "week_col = ['weeknum']\n",
    "\n",
    "sales_cols = ['ltla_week_sales_17', 'decongestant_17', 'throat_17', \n",
    "        'cough_dry_17','cough_all_17', 'ltla_week_sales_24', 'decongestant_24',\n",
    "        'throat_24', 'cough_dry_24', 'cough_all_24','decongestant_lr',\n",
    "        'throat_lr', 'cough_dry_lr', 'cough_all_lr','decongestant_m',\n",
    "        'throat_m', 'cough_dry_m', 'cough_all_m']\n",
    "\n",
    "imd_cols = ['liv_env_score', 'crime_score','housing_score','imd_rank', 'imd_score',\n",
    "            'imd_extent', 'imd_concentration']\n",
    "\n",
    "age_cols = ['pop_density','pop_16to24', 'pop_25to49', 'pop_50to64', 'pop_over65']\n",
    "\n",
    "demo_cols =['pct_male','pct_female','pct_non_white', 'pct_lone_parent','pct_other_children']\n",
    "\n",
    "housing_cols = ['pct_pre1919', 'pct_pre1940','pct_pre1973', 'pct_pre1983','pct_detached', 'pct_semi',\n",
    "                'pct_terraced', 'pct_flat']\n",
    "\n",
    "land_use_cols = ['pct_community', 'pct_industrial', 'pct_residential', 'pct_transport','pct_agriculture',\n",
    "                 'pct_natural', 'pct_recreation']\n",
    "\n",
    "weather_cols = ['average_rainfall','total_rainfall', 'min_temp', 'average_temp', 'max_temp']\n"
   ]
  },
  {
   "cell_type": "code",
   "execution_count": null,
   "id": "427119e2-eec2-4712-b484-57f051009f26",
   "metadata": {},
   "outputs": [],
   "source": [
    "# Set up the grouped variabled for grouped MCR\n",
    "\n",
    "mcr_groupings =  [week_col, sales_cols, imd_cols, age_cols, demo_cols, housing_cols, land_use_cols, weather_cols]\n",
    "\n",
    "grouping_names = [ 'week', 'sales', 'imd', 'age', 'demo', 'housing', 'land_use', 'weather']\n",
    "\n",
    "grouping_names2indexes = {}\n",
    "for i, g in enumerate(grouping_names):\n",
    "    grouping_names2indexes[g] = np.asarray([ X_train.columns.tolist().index(v) for v in mcr_groupings[i] ])"
   ]
  },
  {
   "cell_type": "code",
   "execution_count": null,
   "id": "68ada90c-c744-4139-81d4-9bf51ea85f3e",
   "metadata": {},
   "outputs": [],
   "source": [
    "## Grouped MCR \n",
    "\n",
    "r2 = modelg.plot_mcr(X_train, y_train.values.flatten(), feature_groups_of_interest = mcr_groupings, feature_names = grouping_names, num_times = 10, show_fig = True )"
   ]
  },
  {
   "cell_type": "code",
   "execution_count": null,
   "id": "77977e59-2e65-4a20-9199-c9a6baf91366",
   "metadata": {},
   "outputs": [],
   "source": [
    "#Table scores for grouped MCR\n",
    "r2"
   ]
  },
  {
   "cell_type": "markdown",
   "id": "9daba98d-6e8b-4c65-98cc-4582fbc82fad",
   "metadata": {},
   "source": []
  },
  {
   "cell_type": "code",
   "execution_count": null,
   "id": "bd77bcf5-5751-40fc-a668-c81b90f25e1a",
   "metadata": {},
   "outputs": [],
   "source": []
  },
  {
   "cell_type": "code",
   "execution_count": null,
   "id": "402e77a7-6ebf-408d-9836-1f2c8d0a62c6",
   "metadata": {},
   "outputs": [],
   "source": []
  }
 ],
 "metadata": {
  "kernelspec": {
   "display_name": "Python 3",
   "language": "python",
   "name": "python3"
  },
  "language_info": {
   "codemirror_mode": {
    "name": "ipython",
    "version": 3
   },
   "file_extension": ".py",
   "mimetype": "text/x-python",
   "name": "python",
   "nbconvert_exporter": "python",
   "pygments_lexer": "ipython3",
   "version": "3.7.4"
  }
 },
 "nbformat": 4,
 "nbformat_minor": 5
}
